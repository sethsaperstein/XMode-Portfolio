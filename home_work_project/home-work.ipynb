{
 "cells": [
  {
   "cell_type": "code",
   "execution_count": 3,
   "metadata": {
    "colab": {
     "base_uri": "https://localhost:8080/",
     "height": 51
    },
    "colab_type": "code",
    "executionInfo": {
     "elapsed": 2261,
     "status": "ok",
     "timestamp": 1532987649287,
     "user": {
      "displayName": "Aaron Gu",
      "photoUrl": "https://lh3.googleusercontent.com/a/default-user=s128",
      "userId": "106055002460531419245"
     },
     "user_tz": 240
    },
    "id": "5JsEpYbS_tgg",
    "outputId": "4bf0def7-d7b9-4396-84fa-afef37e35eae"
   },
   "outputs": [],
   "source": [
    "import pandas as pd\n",
    "import numpy as np\n",
    "from sklearn.cluster import KMeans\n",
    "import matplotlib.pyplot as plt\n",
    "import datetime\n",
    "from geopy import distance"
   ]
  },
  {
   "cell_type": "markdown",
   "metadata": {
    "colab_type": "text",
    "id": "RZuVsFFgc-xE"
   },
   "source": [
    "## Data Cleaning"
   ]
  },
  {
   "cell_type": "code",
   "execution_count": 4,
   "metadata": {
    "colab": {},
    "colab_type": "code",
    "id": "O3dIZP7DCTjA"
   },
   "outputs": [],
   "source": [
    "def filter_us(df):\n",
    "  return df[(df['longitude'] < -67) & (df['longitude'] > -125) & (df['latitude'] < 48) & (df['latitude'] > 25)]\n",
    "def filter_speed(df):\n",
    "  return df[df['speed'] < 3]\n",
    "def filter_day(df):\n",
    "  return df[(df['dayofweek'] != 5) & (df['dayofweek'] != 6)]\n",
    "\n",
    "def filter_wifi(df): # deprecated in favor of filter_wifi_network\n",
    "  return df[(df['wifi_ssid'] != \"<unknown ssid>\") & (~df['wifi_ssid'].isnull())]\n",
    "def filter_wifi_network(df):\n",
    "  return df[df['network'] == \"wifi\"]\n",
    "def filter_horizontal_accuracy(df):\n",
    "  return df[df['horizontal_accuracy'] < 200]\n",
    "\n",
    "\n",
    "'''time filtering for median method'''\n",
    "def filter_home(df):\n",
    "  new_df = df.set_index('location_at').between_time('21:00', '23:59').reset_index()\n",
    "  new_df = df.set_index('location_at').between_time('00:00', '5:00').reset_index().append(new_df)\n",
    "  return filter_wifi(df)\n",
    "def filter_work(df):\n",
    "  return df.set_index('location_at').between_time('9:00', '17:00').reset_index()"
   ]
  },
  {
   "cell_type": "code",
   "execution_count": 5,
   "metadata": {
    "colab": {},
    "colab_type": "code",
    "id": "nXjoXqqEFD7F"
   },
   "outputs": [],
   "source": [
    "'''67, 85, 98, 115, 125'''\n",
    "\n",
    "def adjust_timezones(df):\n",
    "  def determine_time(col):\n",
    "    if col['longitude'] > -85:\n",
    "      return col['location_at'] - datetime.timedelta(hours=8)\n",
    "    elif col['longitude'] <= -85 and col['longitude'] > -98:\n",
    "      return col['location_at'] - datetime.timedelta(hours=7)\n",
    "    elif col['longitude'] <= -98 and col['longitude'] > -115:\n",
    "      return col['location_at'] - datetime.timedelta(hours=6)\n",
    "    else:\n",
    "      return col['location_at'] - datetime.timedelta(hours=5)\n",
    "    \n",
    "  df['location_at'] = df.apply(determine_time, axis=1).values"
   ]
  },
  {
   "cell_type": "code",
   "execution_count": 6,
   "metadata": {
    "colab": {},
    "colab_type": "code",
    "id": "zrYAh6p1DZMZ"
   },
   "outputs": [],
   "source": [
    "def clean_data(df):\n",
    "  df['location_at'] = pd.to_datetime(df['location_at'])\n",
    "  adjust_timezones(df)\n",
    "  df['dayofweek'] = df['location_at'].apply(lambda x: x.weekday())\n",
    "  df = filter_day(df)\n",
    "  df = filter_us(df)\n",
    "  df = filter_speed(df)\n",
    "  df = filter_horizontal_accuracy(df)\n",
    "  \n",
    "  '''\n",
    "  print(len(df))\n",
    "  df = filter_wifi_network(df)\n",
    "  print(len(df))\n",
    "  '''\n",
    "  \n",
    "  return df"
   ]
  },
  {
   "cell_type": "code",
   "execution_count": null,
   "metadata": {
    "colab": {},
    "colab_type": "code",
    "id": "l-1nzK_kP0nI"
   },
   "outputs": [],
   "source": [
    "android1 = pd.read_csv(\"C408AA4C-197E-496F-B75D-138E8A849254.csv\", names=[\"app_id\", \"ad_id\", 'platform', 'latitude', 'longitude', 'horizontal_accuracy', 'location_at', 'email', 'ipv_4', 'user_agent', 'country', 'battery', 'background', 'network', 'venue_name', 'venue_category', 'vertical_accuracy', 'speed', 'heading', 'publisher_id', 'dwell_time', 'person_id', 'client_id', 'sdk_version', 'altitude', 'ipv_6', 'mobile_number', 'captured_at', 'created_at', 'floor', 'carrier', 'manufacturer', 'device_model', 'wifi_ssid', 'wifi_bssid', 'decorated_at', 'dist_moved', 'day_number', 'day_type', 'time_type', 'dwell_type', 'confidence', 'brand_name', 'source', 'tech_signals', 'geo_country', 'misc'])\n",
    "android1 = clean_data(android1)\n",
    "#ios1 = pd.read_csv(\"C5C055AE-9492-44E2-9915-ADBD6DAAE765.csv\", names=[\"app_id\", \"ad_id\", 'platform', 'latitude', 'longitude', 'horizontal_accuracy', 'location_at', 'email', 'ipv_4', 'user_agent', 'country', 'battery', 'background', 'network', 'venue_name', 'venue_category', 'vertical_accuracy', 'speed', 'heading', 'publisher_id', 'dwell_time', 'person_id', 'client_id', 'sdk_version', 'altitude', 'ipv_6', 'mobile_number', 'captured_at', 'created_at', 'floor', 'carrier', 'manufacturer', 'device_model', 'wifi_ssid', 'wifi_bssid', 'decorated_at', 'dist_moved', 'day_number', 'day_type', 'time_type', 'dwell_type', 'confidence', 'brand_name', 'source', 'tech_signals', 'geo_country', 'misc'])"
   ]
  },
  {
   "cell_type": "markdown",
   "metadata": {
    "colab_type": "text",
    "id": "TgQa-gmBce90"
   },
   "source": [
    "## Median Method"
   ]
  },
  {
   "cell_type": "code",
   "execution_count": 0,
   "metadata": {
    "colab": {},
    "colab_type": "code",
    "id": "iv0B99-HV5KJ"
   },
   "outputs": [],
   "source": [
    "def centroid_method_median(df):\n",
    "  return df['latitude'].median(), df['longitude'].median()"
   ]
  },
  {
   "cell_type": "code",
   "execution_count": 0,
   "metadata": {
    "colab": {},
    "colab_type": "code",
    "id": "moXBnueGcU7F"
   },
   "outputs": [],
   "source": [
    "work_android = filter_work(android1)\n",
    "home_android = filter_home(android1)\n",
    "print(len(work_android))\n",
    "print(len(home_android))\n",
    "\n",
    "print(centroid_method_median(work_android))\n",
    "print(centroid_method_median(home_android))"
   ]
  },
  {
   "cell_type": "markdown",
   "metadata": {
    "colab_type": "text",
    "id": "ZqevGJOc2bPJ"
   },
   "source": [
    "We've found it it is hard to determine someone's work and home based on time of day - thus, the simple median of the points will not work"
   ]
  },
  {
   "cell_type": "markdown",
   "metadata": {
    "colab_type": "text",
    "id": "uxQaTbmSchUZ"
   },
   "source": [
    "## KMeans Method"
   ]
  },
  {
   "cell_type": "markdown",
   "metadata": {
    "colab_type": "text",
    "id": "fCvTwnlKJ5Le"
   },
   "source": [
    "procedure:\n",
    "1. run kmeans\n",
    "2. filter outliers\n",
    "3. run kmeans on the same number of clusters\n",
    "4. check distance, increase clusters and rerun procedure as needed"
   ]
  },
  {
   "cell_type": "code",
   "execution_count": 0,
   "metadata": {
    "colab": {},
    "colab_type": "code",
    "id": "4H3HygJHITyr"
   },
   "outputs": [],
   "source": [
    "def run_kmeans(df, num_clusters):\n",
    "  kmeans = KMeans(n_clusters=num_clusters)\n",
    "  kmeans.fit(df[['latitude', 'longitude']])\n",
    "  df['kmeans_labels'] = kmeans.labels_\n",
    "  df['centroids'] = df['kmeans_labels'].apply(lambda x: kmeans.cluster_centers_[x])\n",
    "  return df, kmeans"
   ]
  },
  {
   "cell_type": "code",
   "execution_count": 0,
   "metadata": {
    "colab": {},
    "colab_type": "code",
    "id": "7s2aI90FI5z7"
   },
   "outputs": [],
   "source": [
    "def filter_ok_group(df, num_clusters):\n",
    "  ''' filters the outliers of a kmeans dataframe, rerun kmeans, and then check if there are points greater than 200 meters from the centroids '''\n",
    "  \n",
    "  find_max_dist(df) # this method call is to append the 'dist_from_centroid' column to the df\n",
    "  # filter outliers\n",
    "  kmeans_groups = df.groupby('kmeans_labels')\n",
    "  new_df = pd.DataFrame()\n",
    "  for name, group in kmeans_groups:\n",
    "    filtered = filter_dist_outliers(group)\n",
    "    new_df = new_df.append(filtered)\n",
    "    \n",
    "  # run kmeans on the filtered data\n",
    "  new_df, kmeans = run_kmeans(new_df, num_clusters)\n",
    "  \n",
    "  # filter out points greater than 200 meters from centroids\n",
    "  DIST_THRESHOLD = 200 # meters\n",
    "  kmeans_groups = new_df.groupby('kmeans_labels')\n",
    "  group = kmeans_groups.get_group(kmeans_groups.size().index[0]) # largest group\n",
    "  \n",
    "  max_dist = find_max_dist(group)\n",
    "  if max_dist > DIST_THRESHOLD:\n",
    "    return new_df, False\n",
    "  else:\n",
    "    return new_df, True\n",
    "\n",
    "  \n",
    "def find_max_dist(df):\n",
    "  ''' returns the max distance between points in a list '''\n",
    "  lats = df['latitude'].values\n",
    "  lons = df['longitude'].values\n",
    "  centroid = df['centroids'].values[0]\n",
    "\n",
    "  max_dist = 0\n",
    "  dists = []\n",
    "  for i in range(len(lats)):\n",
    "    dist = distance.distance((lats[i], lons[i]), centroid).m\n",
    "    dists.append(dist)\n",
    "    if dist > max_dist:\n",
    "      max_dist = dist\n",
    "  df['dist_from_centroid'] = dists\n",
    "  return max_dist\n",
    "\n",
    "def filter_dist_outliers(df):\n",
    "  ''' filters distances from the centroid'''\n",
    "  \n",
    "  q3 = df[\"dist_from_centroid\"].quantile(0.75)\n",
    "  q1 = df[\"dist_from_centroid\"].quantile(0.25)\n",
    "  IQR = q3 - q1\n",
    "  upper_outlier_bound = q3 + 1.5 * IQR\n",
    "  return df[df['dist_from_centroid'] < upper_outlier_bound]"
   ]
  },
  {
   "cell_type": "code",
   "execution_count": 0,
   "metadata": {
    "colab": {},
    "colab_type": "code",
    "id": "nQZbrUXORBdq"
   },
   "outputs": [],
   "source": [
    "def iterate_kmeans(df):\n",
    "  kmeans_df, kmeans_object = run_kmeans(df, 2)\n",
    "  kmeans_df, boo = filter_ok_group(kmeans_df, 2)\n",
    "  \n",
    "  c = 3\n",
    "  while not boo:\n",
    "    kmeans_df, kmeans_object = run_kmeans(kmeans_df, c)\n",
    "    kmeans_df, boo = filter_ok_group(kmeans_df, c)\n",
    "    c += 1\n",
    "    \n",
    "  plt.scatter(kmeans_df['longitude'], kmeans_df['latitude'], c=kmeans_df['kmeans_labels'], cmap='PRGn')\n",
    "  \n",
    "  centroids = kmeans_df['kmeans_labels'].value_counts().index\n",
    "  print(kmeans_df['kmeans_labels'].value_counts())\n",
    "  for centroid in centroids:\n",
    "    print(kmeans_object.cluster_centers_[centroid])\n",
    "  return kmeans_object.cluster_centers_[centroids[0]], kmeans_object.cluster_centers_[centroids[1]] # home, work"
   ]
  },
  {
   "cell_type": "code",
   "execution_count": 81,
   "metadata": {
    "colab": {
     "base_uri": "https://localhost:8080/",
     "height": 602
    },
    "colab_type": "code",
    "executionInfo": {
     "elapsed": 10456,
     "status": "ok",
     "timestamp": 1532989309177,
     "user": {
      "displayName": "Aaron Gu",
      "photoUrl": "https://lh3.googleusercontent.com/a/default-user=s128",
      "userId": "106055002460531419245"
     },
     "user_tz": 240
    },
    "id": "QM3ipBjRXfoP",
    "outputId": "7fbe0a13-9d9d-4ce4-86a8-940b3861ad30"
   },
   "outputs": [
    {
     "name": "stderr",
     "output_type": "stream",
     "text": [
      "/usr/local/lib/python2.7/dist-packages/ipykernel_launcher.py:40: SettingWithCopyWarning: \n",
      "A value is trying to be set on a copy of a slice from a DataFrame.\n",
      "Try using .loc[row_indexer,col_indexer] = value instead\n",
      "\n",
      "See the caveats in the documentation: http://pandas.pydata.org/pandas-docs/stable/indexing.html#indexing-view-versus-copy\n"
     ]
    },
    {
     "name": "stdout",
     "output_type": "stream",
     "text": [
      "1    4160\n",
      "0    3523\n",
      "3      42\n",
      "2      22\n",
      "Name: kmeans_labels, dtype: int64\n",
      "[ 39.04749916 -94.36747007]\n",
      "[ 38.97879526 -94.36500111]\n",
      "[ 38.98689342 -94.34943188]\n",
      "[ 39.00112229 -94.35635764]\n"
     ]
    },
    {
     "data": {
      "text/plain": [
       "(array([ 39.04749916, -94.36747007]), array([ 38.97879526, -94.36500111]))"
      ]
     },
     "execution_count": 81,
     "metadata": {
      "tags": []
     },
     "output_type": "execute_result"
    },
    {
     "data": {
      "image/png": "[encoded data removed]",
      "text/plain": [
       "<matplotlib.figure.Figure at 0x7f3d52d23b90>"
      ]
     },
     "metadata": {
      "tags": []
     },
     "output_type": "display_data"
    }
   ],
   "source": [
    "iterate_kmeans(android1)"
   ]
  },
  {
   "cell_type": "markdown",
   "metadata": {
    "colab_type": "text",
    "id": "pcim9yaLS9Ei"
   },
   "source": [
    "# Scatter Plots"
   ]
  },
  {
   "cell_type": "code",
   "execution_count": 0,
   "metadata": {
    "colab": {},
    "colab_type": "code",
    "id": "h7rrRQS1TP2p"
   },
   "outputs": [],
   "source": [
    "import matplotlib.pyplot as plt\n",
    "import pandas as pd\n",
    "import numpy as np\n",
    "\n",
    "def graph_device(df_all, df_filter, home_centroid, work_centroid, home_median, work_median):\n",
    "    print(len(df_all.index), len(df_filter.index))\n",
    "    x1 = df_all['longitude'] \n",
    "    y1 = df_all['latitude']\n",
    "    x2 = df_filter['longitude']\n",
    "    y2 = df_filter['latitude']\n",
    "    x3 = home_centroid[1]\n",
    "    y3 = home_centroid[0]\n",
    "    x4 = work_centroid[1]\n",
    "    y4 = work_centroid[0]\n",
    "    x5 = home_median[1]\n",
    "    y5 = home_median[0]\n",
    "    x6 = work_median[1]\n",
    "    y6 = work_median[0]\n",
    "    plt.figure(figsize=(15, 15))\n",
    "    plt.scatter(x1, y1, s=1, color='lightblue', marker=\"o\", label='df_all')\n",
    "    plt.scatter(x2, y2, s=1, color='blue', marker=\"o\", label='df_filter')\n",
    "    plt.scatter(x3, y3, s=1, color='orange', marker=\"o\", label='home_centroid')\n",
    "    plt.scatter(x4, y4, s=1, color='orange', marker=\"s\", label='work_centroid')\n",
    "    plt.scatter(x5, y5, s=1, color='yellow', marker=\"o\", label='home_median')\n",
    "    plt.scatter(x6, y6, s=1, color='yellow', marker=\"s\", label='work_median')\n",
    "    xmax = x2.max()\n",
    "    xmin = x2.min()\n",
    "    plt.xlim(xmax, xmin)\n",
    "    ymax = y2.max()\n",
    "    ymin = y2.min()\n",
    "    plt.ylim(ymax, ymin)\n",
    "    plt.xlabel(\"longitude\")\n",
    "    plt.ylabel(\"latitude\")\n",
    "    plt.legend()\n",
    "    plt.show()"
   ]
  }
 ],
 "metadata": {
  "colab": {
   "collapsed_sections": [],
   "name": "home-work.ipynb",
   "provenance": [],
   "version": "0.3.2"
  },
  "kernelspec": {
   "display_name": "Python 3",
   "language": "python",
   "name": "python3"
  },
  "language_info": {
   "codemirror_mode": {
    "name": "ipython",
    "version": 3
   },
   "file_extension": ".py",
   "mimetype": "text/x-python",
   "name": "python",
   "nbconvert_exporter": "python",
   "pygments_lexer": "ipython3",
   "version": "3.6.4"
  }
 },
 "nbformat": 4,
 "nbformat_minor": 1
}
